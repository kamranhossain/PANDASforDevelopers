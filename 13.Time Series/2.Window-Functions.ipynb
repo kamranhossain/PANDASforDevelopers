{
 "cells": [
  {
   "cell_type": "code",
   "execution_count": 1,
   "metadata": {
    "collapsed": false
   },
   "outputs": [
    {
     "name": "stderr",
     "output_type": "stream",
     "text": [
      "/home/k/anaconda3/lib/python3.5/site-packages/pandas/io/data.py:35: FutureWarning: \n",
      "The pandas.io.data module is moved to a separate package (pandas-datareader) and will be removed from pandas in a future version.\n",
      "After installing the pandas-datareader package (https://github.com/pydata/pandas-datareader), you can change the import ``from pandas.io import data, wb`` to ``from pandas_datareader import data, wb``.\n",
      "  FutureWarning)\n"
     ]
    }
   ],
   "source": [
    "import pandas as pd\n",
    "from pandas.io.data import DataReader\n",
    "import numpy as np\n",
    "from dateutil.parser import parse"
   ]
  },
  {
   "cell_type": "code",
   "execution_count": null,
   "metadata": {
    "collapsed": true
   },
   "outputs": [],
   "source": []
  },
  {
   "cell_type": "markdown",
   "metadata": {},
   "source": [
    "## Window Functions"
   ]
  },
  {
   "cell_type": "code",
   "execution_count": 2,
   "metadata": {
    "collapsed": true
   },
   "outputs": [],
   "source": [
    "idx = pd.date_range('1/1/2000', periods=500, freq='d')"
   ]
  },
  {
   "cell_type": "code",
   "execution_count": 3,
   "metadata": {
    "collapsed": false
   },
   "outputs": [
    {
     "data": {
      "text/plain": [
       "DatetimeIndex(['2000-01-01', '2000-01-02', '2000-01-03', '2000-01-04',\n",
       "               '2000-01-05', '2000-01-06', '2000-01-07', '2000-01-08',\n",
       "               '2000-01-09', '2000-01-10',\n",
       "               ...\n",
       "               '2001-05-05', '2001-05-06', '2001-05-07', '2001-05-08',\n",
       "               '2001-05-09', '2001-05-10', '2001-05-11', '2001-05-12',\n",
       "               '2001-05-13', '2001-05-14'],\n",
       "              dtype='datetime64[ns]', length=500, freq='D')"
      ]
     },
     "execution_count": 3,
     "metadata": {},
     "output_type": "execute_result"
    }
   ],
   "source": [
    "idx"
   ]
  },
  {
   "cell_type": "code",
   "execution_count": 4,
   "metadata": {
    "collapsed": true
   },
   "outputs": [],
   "source": [
    "ser = pd.Series(np.random.randn(len(idx)), index=idx)"
   ]
  },
  {
   "cell_type": "code",
   "execution_count": 5,
   "metadata": {
    "collapsed": false
   },
   "outputs": [
    {
     "data": {
      "text/plain": [
       "2000-01-01    2.442100\n",
       "2000-01-02   -0.675982\n",
       "2000-01-03   -0.642238\n",
       "2000-01-04    0.998327\n",
       "2000-01-05   -0.157217\n",
       "2000-01-06   -0.060568\n",
       "2000-01-07    0.018842\n",
       "2000-01-08    0.515121\n",
       "2000-01-09    0.288402\n",
       "2000-01-10    0.235223\n",
       "2000-01-11    0.419987\n",
       "2000-01-12   -0.184649\n",
       "2000-01-13   -0.213494\n",
       "2000-01-14    2.280596\n",
       "2000-01-15    0.186151\n",
       "2000-01-16   -0.407548\n",
       "2000-01-17   -2.456670\n",
       "2000-01-18   -0.334379\n",
       "2000-01-19   -0.835238\n",
       "2000-01-20    0.090643\n",
       "2000-01-21   -1.591925\n",
       "2000-01-22   -0.890288\n",
       "2000-01-23   -0.097234\n",
       "2000-01-24   -2.075792\n",
       "2000-01-25    0.001939\n",
       "2000-01-26   -0.126447\n",
       "2000-01-27    0.040942\n",
       "2000-01-28    0.109121\n",
       "2000-01-29   -0.843421\n",
       "2000-01-30    0.548469\n",
       "                ...   \n",
       "2001-04-15    2.199949\n",
       "2001-04-16   -0.717898\n",
       "2001-04-17    0.349674\n",
       "2001-04-18    2.115316\n",
       "2001-04-19    0.244658\n",
       "2001-04-20   -1.307282\n",
       "2001-04-21   -0.380056\n",
       "2001-04-22   -0.446086\n",
       "2001-04-23   -0.195893\n",
       "2001-04-24   -0.422923\n",
       "2001-04-25    0.942648\n",
       "2001-04-26   -0.462705\n",
       "2001-04-27    0.856728\n",
       "2001-04-28    0.530866\n",
       "2001-04-29    0.576027\n",
       "2001-04-30   -0.185031\n",
       "2001-05-01   -0.400961\n",
       "2001-05-02   -0.381783\n",
       "2001-05-03   -1.537179\n",
       "2001-05-04   -0.227953\n",
       "2001-05-05    0.479562\n",
       "2001-05-06   -0.534266\n",
       "2001-05-07   -1.590103\n",
       "2001-05-08    1.282373\n",
       "2001-05-09    0.771437\n",
       "2001-05-10    1.257271\n",
       "2001-05-11    0.741949\n",
       "2001-05-12   -0.271686\n",
       "2001-05-13    0.871168\n",
       "2001-05-14   -1.191046\n",
       "Freq: D, dtype: float64"
      ]
     },
     "execution_count": 5,
     "metadata": {},
     "output_type": "execute_result"
    }
   ],
   "source": [
    "ser"
   ]
  },
  {
   "cell_type": "code",
   "execution_count": 6,
   "metadata": {
    "collapsed": true
   },
   "outputs": [],
   "source": [
    "ser2 = ser + ser.shift(2)"
   ]
  },
  {
   "cell_type": "code",
   "execution_count": 7,
   "metadata": {
    "collapsed": false
   },
   "outputs": [
    {
     "data": {
      "text/plain": [
       "2000-01-01         NaN\n",
       "2000-01-02         NaN\n",
       "2000-01-03    1.799862\n",
       "2000-01-04    0.322345\n",
       "2000-01-05   -0.799455\n",
       "2000-01-06    0.937759\n",
       "2000-01-07   -0.138375\n",
       "2000-01-08    0.454553\n",
       "2000-01-09    0.307244\n",
       "2000-01-10    0.750344\n",
       "2000-01-11    0.708389\n",
       "2000-01-12    0.050574\n",
       "2000-01-13    0.206492\n",
       "2000-01-14    2.095948\n",
       "2000-01-15   -0.027343\n",
       "2000-01-16    1.873048\n",
       "2000-01-17   -2.270519\n",
       "2000-01-18   -0.741927\n",
       "2000-01-19   -3.291907\n",
       "2000-01-20   -0.243736\n",
       "2000-01-21   -2.427163\n",
       "2000-01-22   -0.799645\n",
       "2000-01-23   -1.689159\n",
       "2000-01-24   -2.966080\n",
       "2000-01-25   -0.095294\n",
       "2000-01-26   -2.202239\n",
       "2000-01-27    0.042881\n",
       "2000-01-28   -0.017326\n",
       "2000-01-29   -0.802480\n",
       "2000-01-30    0.657590\n",
       "                ...   \n",
       "2001-04-15    3.958599\n",
       "2001-04-16   -0.563048\n",
       "2001-04-17    2.549623\n",
       "2001-04-18    1.397418\n",
       "2001-04-19    0.594332\n",
       "2001-04-20    0.808034\n",
       "2001-04-21   -0.135398\n",
       "2001-04-22   -1.753368\n",
       "2001-04-23   -0.575949\n",
       "2001-04-24   -0.869009\n",
       "2001-04-25    0.746755\n",
       "2001-04-26   -0.885629\n",
       "2001-04-27    1.799376\n",
       "2001-04-28    0.068161\n",
       "2001-04-29    1.432755\n",
       "2001-04-30    0.345836\n",
       "2001-05-01    0.175066\n",
       "2001-05-02   -0.566814\n",
       "2001-05-03   -1.938140\n",
       "2001-05-04   -0.609737\n",
       "2001-05-05   -1.057617\n",
       "2001-05-06   -0.762219\n",
       "2001-05-07   -1.110542\n",
       "2001-05-08    0.748107\n",
       "2001-05-09   -0.818667\n",
       "2001-05-10    2.539644\n",
       "2001-05-11    1.513385\n",
       "2001-05-12    0.985585\n",
       "2001-05-13    1.613117\n",
       "2001-05-14   -1.462732\n",
       "Freq: D, dtype: float64"
      ]
     },
     "execution_count": 7,
     "metadata": {},
     "output_type": "execute_result"
    }
   ],
   "source": [
    "ser2"
   ]
  },
  {
   "cell_type": "code",
   "execution_count": 8,
   "metadata": {
    "collapsed": false
   },
   "outputs": [
    {
     "name": "stderr",
     "output_type": "stream",
     "text": [
      "/home/k/anaconda3/lib/python3.5/site-packages/IPython/lib/pretty.py:108: FutureWarning: .resample() is now a deferred operation\n",
      "use .resample(...).mean() instead of .resample(...)\n",
      "  return getattr(obj, attr, default)\n"
     ]
    },
    {
     "data": {
      "text/plain": [
       "DatetimeIndexResampler [freq=<QuarterEnd: startingMonth=12>, axis=0, closed=right, label=right, convention=start, base=0]"
      ]
     },
     "execution_count": 8,
     "metadata": {},
     "output_type": "execute_result"
    }
   ],
   "source": [
    "ser.resample('Q')"
   ]
  },
  {
   "cell_type": "code",
   "execution_count": 9,
   "metadata": {
    "collapsed": false
   },
   "outputs": [
    {
     "name": "stderr",
     "output_type": "stream",
     "text": [
      "/home/k/anaconda3/lib/python3.5/site-packages/IPython/lib/pretty.py:108: FutureWarning: .resample() is now a deferred operation\n",
      "use .resample(...).mean() instead of .resample(...)\n",
      "  return getattr(obj, attr, default)\n"
     ]
    },
    {
     "data": {
      "text/plain": [
       "DatetimeIndexResampler [freq=<MonthEnd>, axis=0, closed=right, label=right, convention=start, base=0]"
      ]
     },
     "execution_count": 9,
     "metadata": {},
     "output_type": "execute_result"
    }
   ],
   "source": [
    "ser.resample('m')"
   ]
  },
  {
   "cell_type": "code",
   "execution_count": 10,
   "metadata": {
    "collapsed": false
   },
   "outputs": [
    {
     "name": "stderr",
     "output_type": "stream",
     "text": [
      "/home/k/anaconda3/lib/python3.5/site-packages/IPython/lib/pretty.py:108: FutureWarning: .resample() is now a deferred operation\n",
      "use .resample(...).mean() instead of .resample(...)\n",
      "  return getattr(obj, attr, default)\n"
     ]
    },
    {
     "data": {
      "text/plain": [
       "DatetimeIndexResampler [freq=<QuarterEnd: startingMonth=12>, axis=0, closed=right, label=right, convention=start, base=0]"
      ]
     },
     "execution_count": 10,
     "metadata": {},
     "output_type": "execute_result"
    }
   ],
   "source": [
    "ser.resample('Q')"
   ]
  },
  {
   "cell_type": "code",
   "execution_count": null,
   "metadata": {
    "collapsed": true
   },
   "outputs": [],
   "source": [
    "# http://pandas.pydata.org/pandas-docs/stable/timeseries.html#offset-aliases"
   ]
  },
  {
   "cell_type": "code",
   "execution_count": 11,
   "metadata": {
    "collapsed": true
   },
   "outputs": [],
   "source": [
    "spy = DataReader('SPY', data_source='yahoo')"
   ]
  },
  {
   "cell_type": "code",
   "execution_count": 12,
   "metadata": {
    "collapsed": false
   },
   "outputs": [
    {
     "data": {
      "text/html": [
       "<div>\n",
       "<table border=\"1\" class=\"dataframe\">\n",
       "  <thead>\n",
       "    <tr style=\"text-align: right;\">\n",
       "      <th>Date</th>\n",
       "      <th>2016-10-03 00:00:00</th>\n",
       "      <th>2016-10-04 00:00:00</th>\n",
       "      <th>2016-10-05 00:00:00</th>\n",
       "      <th>2016-10-06 00:00:00</th>\n",
       "      <th>2016-10-07 00:00:00</th>\n",
       "    </tr>\n",
       "  </thead>\n",
       "  <tbody>\n",
       "    <tr>\n",
       "      <th>Open</th>\n",
       "      <td>2.158200e+02</td>\n",
       "      <td>2.159100e+02</td>\n",
       "      <td>2.154100e+02</td>\n",
       "      <td>2.153700e+02</td>\n",
       "      <td>2.161000e+02</td>\n",
       "    </tr>\n",
       "    <tr>\n",
       "      <th>High</th>\n",
       "      <td>2.160400e+02</td>\n",
       "      <td>2.161700e+02</td>\n",
       "      <td>2.161300e+02</td>\n",
       "      <td>2.160400e+02</td>\n",
       "      <td>2.163000e+02</td>\n",
       "    </tr>\n",
       "    <tr>\n",
       "      <th>Low</th>\n",
       "      <td>2.150400e+02</td>\n",
       "      <td>2.139900e+02</td>\n",
       "      <td>2.153300e+02</td>\n",
       "      <td>2.147400e+02</td>\n",
       "      <td>2.141900e+02</td>\n",
       "    </tr>\n",
       "    <tr>\n",
       "      <th>Close</th>\n",
       "      <td>2.157800e+02</td>\n",
       "      <td>2.146800e+02</td>\n",
       "      <td>2.156300e+02</td>\n",
       "      <td>2.157800e+02</td>\n",
       "      <td>2.150400e+02</td>\n",
       "    </tr>\n",
       "    <tr>\n",
       "      <th>Volume</th>\n",
       "      <td>8.351210e+07</td>\n",
       "      <td>1.199481e+08</td>\n",
       "      <td>7.281600e+07</td>\n",
       "      <td>6.292740e+07</td>\n",
       "      <td>8.851070e+07</td>\n",
       "    </tr>\n",
       "    <tr>\n",
       "      <th>Adj Close</th>\n",
       "      <td>2.157800e+02</td>\n",
       "      <td>2.146800e+02</td>\n",
       "      <td>2.156300e+02</td>\n",
       "      <td>2.157800e+02</td>\n",
       "      <td>2.150400e+02</td>\n",
       "    </tr>\n",
       "  </tbody>\n",
       "</table>\n",
       "</div>"
      ],
      "text/plain": [
       "Date         2016-10-03    2016-10-04    2016-10-05    2016-10-06  \\\n",
       "Open       2.158200e+02  2.159100e+02  2.154100e+02  2.153700e+02   \n",
       "High       2.160400e+02  2.161700e+02  2.161300e+02  2.160400e+02   \n",
       "Low        2.150400e+02  2.139900e+02  2.153300e+02  2.147400e+02   \n",
       "Close      2.157800e+02  2.146800e+02  2.156300e+02  2.157800e+02   \n",
       "Volume     8.351210e+07  1.199481e+08  7.281600e+07  6.292740e+07   \n",
       "Adj Close  2.157800e+02  2.146800e+02  2.156300e+02  2.157800e+02   \n",
       "\n",
       "Date         2016-10-07  \n",
       "Open       2.161000e+02  \n",
       "High       2.163000e+02  \n",
       "Low        2.141900e+02  \n",
       "Close      2.150400e+02  \n",
       "Volume     8.851070e+07  \n",
       "Adj Close  2.150400e+02  "
      ]
     },
     "execution_count": 12,
     "metadata": {},
     "output_type": "execute_result"
    }
   ],
   "source": [
    "spy.tail().T"
   ]
  },
  {
   "cell_type": "code",
   "execution_count": 13,
   "metadata": {
    "collapsed": false
   },
   "outputs": [
    {
     "name": "stderr",
     "output_type": "stream",
     "text": [
      "/home/k/anaconda3/lib/python3.5/site-packages/ipykernel/__main__.py:1: FutureWarning: pd.rolling_mean is deprecated for Series and will be removed in a future version, replace with \n",
      "\tSeries.rolling(window=50,center=False).mean()\n",
      "  if __name__ == '__main__':\n",
      "/home/k/anaconda3/lib/python3.5/site-packages/ipykernel/__main__.py:2: FutureWarning: pd.rolling_mean is deprecated for Series and will be removed in a future version, replace with \n",
      "\tSeries.rolling(window=200,center=False).mean()\n",
      "  from ipykernel import kernelapp as app\n"
     ]
    }
   ],
   "source": [
    "spy['mean50'] = pd.rolling_mean(spy.Close, 50)\n",
    "spy['mean200'] = pd.rolling_mean(spy.Close, 200)"
   ]
  },
  {
   "cell_type": "code",
   "execution_count": 14,
   "metadata": {
    "collapsed": false
   },
   "outputs": [
    {
     "data": {
      "text/html": [
       "<div>\n",
       "<table border=\"1\" class=\"dataframe\">\n",
       "  <thead>\n",
       "    <tr style=\"text-align: right;\">\n",
       "      <th>Date</th>\n",
       "      <th>2016-10-03 00:00:00</th>\n",
       "      <th>2016-10-04 00:00:00</th>\n",
       "      <th>2016-10-05 00:00:00</th>\n",
       "      <th>2016-10-06 00:00:00</th>\n",
       "      <th>2016-10-07 00:00:00</th>\n",
       "    </tr>\n",
       "  </thead>\n",
       "  <tbody>\n",
       "    <tr>\n",
       "      <th>Open</th>\n",
       "      <td>2.158200e+02</td>\n",
       "      <td>2.159100e+02</td>\n",
       "      <td>2.154100e+02</td>\n",
       "      <td>2.153700e+02</td>\n",
       "      <td>2.161000e+02</td>\n",
       "    </tr>\n",
       "    <tr>\n",
       "      <th>High</th>\n",
       "      <td>2.160400e+02</td>\n",
       "      <td>2.161700e+02</td>\n",
       "      <td>2.161300e+02</td>\n",
       "      <td>2.160400e+02</td>\n",
       "      <td>2.163000e+02</td>\n",
       "    </tr>\n",
       "    <tr>\n",
       "      <th>Low</th>\n",
       "      <td>2.150400e+02</td>\n",
       "      <td>2.139900e+02</td>\n",
       "      <td>2.153300e+02</td>\n",
       "      <td>2.147400e+02</td>\n",
       "      <td>2.141900e+02</td>\n",
       "    </tr>\n",
       "    <tr>\n",
       "      <th>Close</th>\n",
       "      <td>2.157800e+02</td>\n",
       "      <td>2.146800e+02</td>\n",
       "      <td>2.156300e+02</td>\n",
       "      <td>2.157800e+02</td>\n",
       "      <td>2.150400e+02</td>\n",
       "    </tr>\n",
       "    <tr>\n",
       "      <th>Volume</th>\n",
       "      <td>8.351210e+07</td>\n",
       "      <td>1.199481e+08</td>\n",
       "      <td>7.281600e+07</td>\n",
       "      <td>6.292740e+07</td>\n",
       "      <td>8.851070e+07</td>\n",
       "    </tr>\n",
       "    <tr>\n",
       "      <th>Adj Close</th>\n",
       "      <td>2.157800e+02</td>\n",
       "      <td>2.146800e+02</td>\n",
       "      <td>2.156300e+02</td>\n",
       "      <td>2.157800e+02</td>\n",
       "      <td>2.150400e+02</td>\n",
       "    </tr>\n",
       "    <tr>\n",
       "      <th>mean50</th>\n",
       "      <td>2.168188e+02</td>\n",
       "      <td>2.167794e+02</td>\n",
       "      <td>2.167570e+02</td>\n",
       "      <td>2.167422e+02</td>\n",
       "      <td>2.167076e+02</td>\n",
       "    </tr>\n",
       "    <tr>\n",
       "      <th>mean200</th>\n",
       "      <td>2.063811e+02</td>\n",
       "      <td>2.064302e+02</td>\n",
       "      <td>2.065082e+02</td>\n",
       "      <td>2.065788e+02</td>\n",
       "      <td>2.066365e+02</td>\n",
       "    </tr>\n",
       "  </tbody>\n",
       "</table>\n",
       "</div>"
      ],
      "text/plain": [
       "Date         2016-10-03    2016-10-04    2016-10-05    2016-10-06  \\\n",
       "Open       2.158200e+02  2.159100e+02  2.154100e+02  2.153700e+02   \n",
       "High       2.160400e+02  2.161700e+02  2.161300e+02  2.160400e+02   \n",
       "Low        2.150400e+02  2.139900e+02  2.153300e+02  2.147400e+02   \n",
       "Close      2.157800e+02  2.146800e+02  2.156300e+02  2.157800e+02   \n",
       "Volume     8.351210e+07  1.199481e+08  7.281600e+07  6.292740e+07   \n",
       "Adj Close  2.157800e+02  2.146800e+02  2.156300e+02  2.157800e+02   \n",
       "mean50     2.168188e+02  2.167794e+02  2.167570e+02  2.167422e+02   \n",
       "mean200    2.063811e+02  2.064302e+02  2.065082e+02  2.065788e+02   \n",
       "\n",
       "Date         2016-10-07  \n",
       "Open       2.161000e+02  \n",
       "High       2.163000e+02  \n",
       "Low        2.141900e+02  \n",
       "Close      2.150400e+02  \n",
       "Volume     8.851070e+07  \n",
       "Adj Close  2.150400e+02  \n",
       "mean50     2.167076e+02  \n",
       "mean200    2.066365e+02  "
      ]
     },
     "execution_count": 14,
     "metadata": {},
     "output_type": "execute_result"
    }
   ],
   "source": [
    "spy.tail().T"
   ]
  },
  {
   "cell_type": "code",
   "execution_count": null,
   "metadata": {
    "collapsed": true
   },
   "outputs": [],
   "source": []
  }
 ],
 "metadata": {
  "anaconda-cloud": {},
  "kernelspec": {
   "display_name": "Python [Root]",
   "language": "python",
   "name": "Python [Root]"
  },
  "language_info": {
   "codemirror_mode": {
    "name": "ipython",
    "version": 3
   },
   "file_extension": ".py",
   "mimetype": "text/x-python",
   "name": "python",
   "nbconvert_exporter": "python",
   "pygments_lexer": "ipython3",
   "version": "3.5.2"
  }
 },
 "nbformat": 4,
 "nbformat_minor": 0
}
